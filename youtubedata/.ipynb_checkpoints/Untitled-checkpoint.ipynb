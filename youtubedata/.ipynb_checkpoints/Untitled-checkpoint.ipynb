{
 "cells": [
  {
   "cell_type": "code",
   "execution_count": 1,
   "id": "5d77708c-36b5-4157-aa5b-cc28b636f7ba",
   "metadata": {},
   "outputs": [],
   "source": [
    "import pandas as pd\n",
    "import numpy as np\n",
    "import matplotlib.pyplot as plt"
   ]
  },
  {
   "cell_type": "code",
   "execution_count": 2,
   "id": "27cf8774-2be9-4a6c-96d7-2c1e6df4db51",
   "metadata": {},
   "outputs": [],
   "source": [
    "df = pd.read_csv('../youtube_video_data.csv')"
   ]
  },
  {
   "cell_type": "code",
   "execution_count": 4,
   "id": "3c27d55a-8e14-48a5-9edd-19e0596cc3c6",
   "metadata": {
    "tags": []
   },
   "outputs": [
    {
     "data": {
      "text/html": [
       "<div>\n",
       "<style scoped>\n",
       "    .dataframe tbody tr th:only-of-type {\n",
       "        vertical-align: middle;\n",
       "    }\n",
       "\n",
       "    .dataframe tbody tr th {\n",
       "        vertical-align: top;\n",
       "    }\n",
       "\n",
       "    .dataframe thead th {\n",
       "        text-align: right;\n",
       "    }\n",
       "</style>\n",
       "<table border=\"1\" class=\"dataframe\">\n",
       "  <thead>\n",
       "    <tr style=\"text-align: right;\">\n",
       "      <th></th>\n",
       "      <th>channelName</th>\n",
       "      <th>channelUrl</th>\n",
       "      <th>date</th>\n",
       "      <th>details</th>\n",
       "      <th>dislikes</th>\n",
       "      <th>duration</th>\n",
       "      <th>id</th>\n",
       "      <th>likes</th>\n",
       "      <th>numberOfSubscribers</th>\n",
       "      <th>text</th>\n",
       "      <th>title</th>\n",
       "      <th>url</th>\n",
       "      <th>viewCount</th>\n",
       "    </tr>\n",
       "  </thead>\n",
       "  <tbody>\n",
       "    <tr>\n",
       "      <th>0</th>\n",
       "      <td>Magic Music</td>\n",
       "      <td>https://www.youtube.com/channel/UCp6_KuNhT0kcF...</td>\n",
       "      <td>2020-12-19T00:00:00+00:00</td>\n",
       "      <td>&lt;span dir=\"auto\" class=\"style-scope yt-formatt...</td>\n",
       "      <td>4600</td>\n",
       "      <td>1:18:42</td>\n",
       "      <td>W9iUh23Xrsg</td>\n",
       "      <td>142000</td>\n",
       "      <td>3550000</td>\n",
       "      <td>New Year Music Mix 2021 ♫ Best Music 2020 Part...</td>\n",
       "      <td>New Year Music Mix 2021 ♫ Best Music 2020 Part...</td>\n",
       "      <td>https://www.youtube.com/watch?v=W9iUh23Xrsg</td>\n",
       "      <td>12109051</td>\n",
       "    </tr>\n",
       "    <tr>\n",
       "      <th>1</th>\n",
       "      <td>LARRAY</td>\n",
       "      <td>https://www.youtube.com/channel/UCt_DaLB_NDqPV...</td>\n",
       "      <td>2020-10-19T00:00:00+00:00</td>\n",
       "      <td>&lt;span dir=\"auto\" class=\"style-scope yt-formatt...</td>\n",
       "      <td>115000</td>\n",
       "      <td>3:40</td>\n",
       "      <td>M06ju3qJqA4</td>\n",
       "      <td>2600000</td>\n",
       "      <td>8140000</td>\n",
       "      <td>Larray - Canceled (Official Music Video)\\nSong...</td>\n",
       "      <td>Larray - Cancelled (Official Music Video)</td>\n",
       "      <td>https://www.youtube.com/watch?v=M06ju3qJqA4</td>\n",
       "      <td>65813934</td>\n",
       "    </tr>\n",
       "    <tr>\n",
       "      <th>2</th>\n",
       "      <td>The Weeknd</td>\n",
       "      <td>https://www.youtube.com/channel/UC0WP5P-ufpRfj...</td>\n",
       "      <td>2021-01-05T00:00:00+00:00</td>\n",
       "      <td>&lt;span dir=\"auto\" class=\"style-scope yt-formatt...</td>\n",
       "      <td>62000</td>\n",
       "      <td>4:09</td>\n",
       "      <td>XXYlFuWEuKI</td>\n",
       "      <td>1800000</td>\n",
       "      <td>22400000</td>\n",
       "      <td>Official music video by The Weeknd performing ...</td>\n",
       "      <td>The Weeknd - Save Your Tears (Official Music V...</td>\n",
       "      <td>https://www.youtube.com/watch?v=XXYlFuWEuKI</td>\n",
       "      <td>69713745</td>\n",
       "    </tr>\n",
       "    <tr>\n",
       "      <th>3</th>\n",
       "      <td>LIL HUDDY</td>\n",
       "      <td>https://www.youtube.com/channel/UC9APf0VQtg1Vr...</td>\n",
       "      <td>2021-01-21T00:00:00+00:00</td>\n",
       "      <td>&lt;span dir=\"auto\" class=\"style-scope yt-formatt...</td>\n",
       "      <td>7600</td>\n",
       "      <td>0:20</td>\n",
       "      <td>Se9uoCExChE</td>\n",
       "      <td>157000</td>\n",
       "      <td>2010000</td>\n",
       "      <td>Listen to “21st Century Vampire” now: https://...</td>\n",
       "      <td>LILHUDDY - 21st Century Vampire (Official Musi...</td>\n",
       "      <td>https://www.youtube.com/watch?v=Se9uoCExChE</td>\n",
       "      <td>1016923</td>\n",
       "    </tr>\n",
       "    <tr>\n",
       "      <th>4</th>\n",
       "      <td>Drake</td>\n",
       "      <td>https://www.youtube.com/channel/UCByOQJjav0CUD...</td>\n",
       "      <td>2020-08-14T00:00:00+00:00</td>\n",
       "      <td>&lt;span dir=\"auto\" class=\"style-scope yt-formatt...</td>\n",
       "      <td>92000</td>\n",
       "      <td>0:15</td>\n",
       "      <td>JFm7YDVlqnI</td>\n",
       "      <td>2800000</td>\n",
       "      <td>23700000</td>\n",
       "      <td>Laugh Now Cry Later ft. Lil Durk available eve...</td>\n",
       "      <td>Drake - Laugh Now Cry Later (Official Music Vi...</td>\n",
       "      <td>https://www.youtube.com/watch?v=JFm7YDVlqnI</td>\n",
       "      <td>224054798</td>\n",
       "    </tr>\n",
       "    <tr>\n",
       "      <th>...</th>\n",
       "      <td>...</td>\n",
       "      <td>...</td>\n",
       "      <td>...</td>\n",
       "      <td>...</td>\n",
       "      <td>...</td>\n",
       "      <td>...</td>\n",
       "      <td>...</td>\n",
       "      <td>...</td>\n",
       "      <td>...</td>\n",
       "      <td>...</td>\n",
       "      <td>...</td>\n",
       "      <td>...</td>\n",
       "      <td>...</td>\n",
       "    </tr>\n",
       "    <tr>\n",
       "      <th>152</th>\n",
       "      <td>WKBW TV | Buffalo, NY</td>\n",
       "      <td>https://www.youtube.com/channel/UCfbPQcdF5an7u...</td>\n",
       "      <td>2021-01-19T00:00:00+00:00</td>\n",
       "      <td>MUSIC MONDAY - ORGAN FAIRCHILD MUSIC VIDEO</td>\n",
       "      <td>0</td>\n",
       "      <td>3:12</td>\n",
       "      <td>tX-93uCRYlo</td>\n",
       "      <td>0</td>\n",
       "      <td>51000</td>\n",
       "      <td>MUSIC MONDAY - ORGAN FAIRCHILD MUSIC VIDEO</td>\n",
       "      <td>MUSIC MONDAY - ORGAN FAIRCHILD MUSIC VIDEO</td>\n",
       "      <td>https://www.youtube.com/watch?v=tX-93uCRYlo</td>\n",
       "      <td>11</td>\n",
       "    </tr>\n",
       "    <tr>\n",
       "      <th>153</th>\n",
       "      <td>Soothing Relaxation</td>\n",
       "      <td>https://www.youtube.com/channel/UCjzHeG1KWoonm...</td>\n",
       "      <td>2018-04-01T00:00:00+00:00</td>\n",
       "      <td>&lt;span dir=\"auto\" class=\"style-scope yt-formatt...</td>\n",
       "      <td>10000</td>\n",
       "      <td>8:02:32</td>\n",
       "      <td>OeHLHNKQCXA</td>\n",
       "      <td>225000</td>\n",
       "      <td>6660000</td>\n",
       "      <td>Beautiful piano music (8 hours, tracklist belo...</td>\n",
       "      <td>8 Hours of Beautiful Piano Music: Sleep Music,...</td>\n",
       "      <td>https://www.youtube.com/watch?v=OeHLHNKQCXA</td>\n",
       "      <td>23907149</td>\n",
       "    </tr>\n",
       "    <tr>\n",
       "      <th>154</th>\n",
       "      <td>Lil Nas X</td>\n",
       "      <td>https://www.youtube.com/channel/UC_uMv3bNXwapH...</td>\n",
       "      <td>2020-11-13T00:00:00+00:00</td>\n",
       "      <td>&lt;span dir=\"auto\" class=\"style-scope yt-formatt...</td>\n",
       "      <td>73000</td>\n",
       "      <td>2:48</td>\n",
       "      <td>9vMLTcftlyI</td>\n",
       "      <td>2600000</td>\n",
       "      <td>11400000</td>\n",
       "      <td>Official video for \"Holiday\" by Lil Nas X.\\n\\n...</td>\n",
       "      <td>Lil Nas X - HOLIDAY (Official Video)</td>\n",
       "      <td>https://www.youtube.com/watch?v=9vMLTcftlyI</td>\n",
       "      <td>103226690</td>\n",
       "    </tr>\n",
       "    <tr>\n",
       "      <th>155</th>\n",
       "      <td>Ed Sheeran</td>\n",
       "      <td>https://www.youtube.com/channel/UC0C-w0YjGpqDX...</td>\n",
       "      <td>2017-11-09T00:00:00+00:00</td>\n",
       "      <td>&lt;span dir=\"auto\" class=\"style-scope yt-formatt...</td>\n",
       "      <td>540000</td>\n",
       "      <td>4:40</td>\n",
       "      <td>2Vv-BfVoq4g</td>\n",
       "      <td>14000000</td>\n",
       "      <td>46600000</td>\n",
       "      <td>The official music video for Ed Sheeran - Perf...</td>\n",
       "      <td>Ed Sheeran - Perfect (Official Music Video)</td>\n",
       "      <td>https://www.youtube.com/watch?v=2Vv-BfVoq4g</td>\n",
       "      <td>2712038008</td>\n",
       "    </tr>\n",
       "    <tr>\n",
       "      <th>156</th>\n",
       "      <td>Latest Christian Gospel</td>\n",
       "      <td>https://www.youtube.com/channel/UCGYtejwagNGsM...</td>\n",
       "      <td>Invalid date</td>\n",
       "      <td>&lt;span dir=\"auto\" class=\"style-scope yt-formatt...</td>\n",
       "      <td>14</td>\n",
       "      <td>2:56</td>\n",
       "      <td>E19Bz_vP7w0</td>\n",
       "      <td>384</td>\n",
       "      <td>0</td>\n",
       "      <td>Best Praise and Worship Songs 2021 - Top 100 B...</td>\n",
       "      <td>Best Praise and Worship Songs 2021 - Top 100 B...</td>\n",
       "      <td>https://www.youtube.com/watch?v=E19Bz_vP7w0</td>\n",
       "      <td>35307</td>\n",
       "    </tr>\n",
       "  </tbody>\n",
       "</table>\n",
       "<p>157 rows × 13 columns</p>\n",
       "</div>"
      ],
      "text/plain": [
       "                 channelName  \\\n",
       "0                Magic Music   \n",
       "1                     LARRAY   \n",
       "2                 The Weeknd   \n",
       "3                  LIL HUDDY   \n",
       "4                      Drake   \n",
       "..                       ...   \n",
       "152    WKBW TV | Buffalo, NY   \n",
       "153      Soothing Relaxation   \n",
       "154                Lil Nas X   \n",
       "155               Ed Sheeran   \n",
       "156  Latest Christian Gospel   \n",
       "\n",
       "                                            channelUrl  \\\n",
       "0    https://www.youtube.com/channel/UCp6_KuNhT0kcF...   \n",
       "1    https://www.youtube.com/channel/UCt_DaLB_NDqPV...   \n",
       "2    https://www.youtube.com/channel/UC0WP5P-ufpRfj...   \n",
       "3    https://www.youtube.com/channel/UC9APf0VQtg1Vr...   \n",
       "4    https://www.youtube.com/channel/UCByOQJjav0CUD...   \n",
       "..                                                 ...   \n",
       "152  https://www.youtube.com/channel/UCfbPQcdF5an7u...   \n",
       "153  https://www.youtube.com/channel/UCjzHeG1KWoonm...   \n",
       "154  https://www.youtube.com/channel/UC_uMv3bNXwapH...   \n",
       "155  https://www.youtube.com/channel/UC0C-w0YjGpqDX...   \n",
       "156  https://www.youtube.com/channel/UCGYtejwagNGsM...   \n",
       "\n",
       "                          date  \\\n",
       "0    2020-12-19T00:00:00+00:00   \n",
       "1    2020-10-19T00:00:00+00:00   \n",
       "2    2021-01-05T00:00:00+00:00   \n",
       "3    2021-01-21T00:00:00+00:00   \n",
       "4    2020-08-14T00:00:00+00:00   \n",
       "..                         ...   \n",
       "152  2021-01-19T00:00:00+00:00   \n",
       "153  2018-04-01T00:00:00+00:00   \n",
       "154  2020-11-13T00:00:00+00:00   \n",
       "155  2017-11-09T00:00:00+00:00   \n",
       "156               Invalid date   \n",
       "\n",
       "                                               details  dislikes duration  \\\n",
       "0    <span dir=\"auto\" class=\"style-scope yt-formatt...      4600  1:18:42   \n",
       "1    <span dir=\"auto\" class=\"style-scope yt-formatt...    115000     3:40   \n",
       "2    <span dir=\"auto\" class=\"style-scope yt-formatt...     62000     4:09   \n",
       "3    <span dir=\"auto\" class=\"style-scope yt-formatt...      7600     0:20   \n",
       "4    <span dir=\"auto\" class=\"style-scope yt-formatt...     92000     0:15   \n",
       "..                                                 ...       ...      ...   \n",
       "152         MUSIC MONDAY - ORGAN FAIRCHILD MUSIC VIDEO         0     3:12   \n",
       "153  <span dir=\"auto\" class=\"style-scope yt-formatt...     10000  8:02:32   \n",
       "154  <span dir=\"auto\" class=\"style-scope yt-formatt...     73000     2:48   \n",
       "155  <span dir=\"auto\" class=\"style-scope yt-formatt...    540000     4:40   \n",
       "156  <span dir=\"auto\" class=\"style-scope yt-formatt...        14     2:56   \n",
       "\n",
       "              id     likes  numberOfSubscribers  \\\n",
       "0    W9iUh23Xrsg    142000              3550000   \n",
       "1    M06ju3qJqA4   2600000              8140000   \n",
       "2    XXYlFuWEuKI   1800000             22400000   \n",
       "3    Se9uoCExChE    157000              2010000   \n",
       "4    JFm7YDVlqnI   2800000             23700000   \n",
       "..           ...       ...                  ...   \n",
       "152  tX-93uCRYlo         0                51000   \n",
       "153  OeHLHNKQCXA    225000              6660000   \n",
       "154  9vMLTcftlyI   2600000             11400000   \n",
       "155  2Vv-BfVoq4g  14000000             46600000   \n",
       "156  E19Bz_vP7w0       384                    0   \n",
       "\n",
       "                                                  text  \\\n",
       "0    New Year Music Mix 2021 ♫ Best Music 2020 Part...   \n",
       "1    Larray - Canceled (Official Music Video)\\nSong...   \n",
       "2    Official music video by The Weeknd performing ...   \n",
       "3    Listen to “21st Century Vampire” now: https://...   \n",
       "4    Laugh Now Cry Later ft. Lil Durk available eve...   \n",
       "..                                                 ...   \n",
       "152         MUSIC MONDAY - ORGAN FAIRCHILD MUSIC VIDEO   \n",
       "153  Beautiful piano music (8 hours, tracklist belo...   \n",
       "154  Official video for \"Holiday\" by Lil Nas X.\\n\\n...   \n",
       "155  The official music video for Ed Sheeran - Perf...   \n",
       "156  Best Praise and Worship Songs 2021 - Top 100 B...   \n",
       "\n",
       "                                                 title  \\\n",
       "0    New Year Music Mix 2021 ♫ Best Music 2020 Part...   \n",
       "1            Larray - Cancelled (Official Music Video)   \n",
       "2    The Weeknd - Save Your Tears (Official Music V...   \n",
       "3    LILHUDDY - 21st Century Vampire (Official Musi...   \n",
       "4    Drake - Laugh Now Cry Later (Official Music Vi...   \n",
       "..                                                 ...   \n",
       "152         MUSIC MONDAY - ORGAN FAIRCHILD MUSIC VIDEO   \n",
       "153  8 Hours of Beautiful Piano Music: Sleep Music,...   \n",
       "154               Lil Nas X - HOLIDAY (Official Video)   \n",
       "155        Ed Sheeran - Perfect (Official Music Video)   \n",
       "156  Best Praise and Worship Songs 2021 - Top 100 B...   \n",
       "\n",
       "                                             url   viewCount  \n",
       "0    https://www.youtube.com/watch?v=W9iUh23Xrsg    12109051  \n",
       "1    https://www.youtube.com/watch?v=M06ju3qJqA4    65813934  \n",
       "2    https://www.youtube.com/watch?v=XXYlFuWEuKI    69713745  \n",
       "3    https://www.youtube.com/watch?v=Se9uoCExChE     1016923  \n",
       "4    https://www.youtube.com/watch?v=JFm7YDVlqnI   224054798  \n",
       "..                                           ...         ...  \n",
       "152  https://www.youtube.com/watch?v=tX-93uCRYlo          11  \n",
       "153  https://www.youtube.com/watch?v=OeHLHNKQCXA    23907149  \n",
       "154  https://www.youtube.com/watch?v=9vMLTcftlyI   103226690  \n",
       "155  https://www.youtube.com/watch?v=2Vv-BfVoq4g  2712038008  \n",
       "156  https://www.youtube.com/watch?v=E19Bz_vP7w0       35307  \n",
       "\n",
       "[157 rows x 13 columns]"
      ]
     },
     "execution_count": 4,
     "metadata": {},
     "output_type": "execute_result"
    }
   ],
   "source": [
    "df"
   ]
  },
  {
   "cell_type": "code",
   "execution_count": 6,
   "id": "deee5839-c83a-4e08-a8f0-9ba8fb94b32b",
   "metadata": {},
   "outputs": [
    {
     "data": {
      "text/plain": [
       "5158342444"
      ]
     },
     "execution_count": 6,
     "metadata": {},
     "output_type": "execute_result"
    }
   ],
   "source": [
    "#viewers terbanyak\n",
    "df['viewCount'].max()"
   ]
  },
  {
   "cell_type": "code",
   "execution_count": 11,
   "id": "5bf75be1-d1c9-4314-b20c-b61142fadc3a",
   "metadata": {},
   "outputs": [
    {
     "data": {
      "text/plain": [
       "67700000"
      ]
     },
     "execution_count": 11,
     "metadata": {},
     "output_type": "execute_result"
    }
   ],
   "source": [
    "#subs terbanyak\n",
    "df['numberOfSubscribers'].max()"
   ]
  },
  {
   "cell_type": "code",
   "execution_count": 14,
   "id": "38bea049-c42b-45fd-b646-503fed5a9238",
   "metadata": {},
   "outputs": [
    {
     "data": {
      "text/plain": [
       "1.4537037037037037"
      ]
     },
     "execution_count": 14,
     "metadata": {},
     "output_type": "execute_result"
    }
   ],
   "source": [
    "#rata-rata banyak subs\n",
    "df['numberOfSubscribers'].value_counts().mean()"
   ]
  },
  {
   "cell_type": "code",
   "execution_count": 31,
   "id": "e3f53ee0-f3dd-420c-bdbc-a4c8f7ee3f15",
   "metadata": {},
   "outputs": [
    {
     "data": {
      "text/plain": [
       "'‘Beatles’ Music Producer Who Murdered Actress Dies at 81'"
      ]
     },
     "execution_count": 31,
     "metadata": {},
     "output_type": "execute_result"
    }
   ],
   "source": [
    "#video paling sering dilike\n",
    "df['likes']>0\n",
    "df['title'].max()"
   ]
  },
  {
   "cell_type": "code",
   "execution_count": 18,
   "id": "25101ab5-288e-4e18-b289-33ad7bd5f20d",
   "metadata": {},
   "outputs": [
    {
     "data": {
      "text/plain": [
       "897831.690051228"
      ]
     },
     "execution_count": 18,
     "metadata": {},
     "output_type": "execute_result"
    }
   ],
   "source": [
    "df['dislikes'].std()"
   ]
  },
  {
   "cell_type": "code",
   "execution_count": 19,
   "id": "b6ed1964-776b-498b-a7e4-a1108d121ac3",
   "metadata": {},
   "outputs": [
    {
     "data": {
      "text/plain": [
       "11"
      ]
     },
     "execution_count": 19,
     "metadata": {},
     "output_type": "execute_result"
    }
   ],
   "source": [
    "#views paling sedikit\n",
    "df['viewCount'].min()"
   ]
  },
  {
   "cell_type": "code",
   "execution_count": 20,
   "id": "e426116a-298a-464f-94dc-9f7c8dd3d864",
   "metadata": {},
   "outputs": [
    {
     "data": {
      "text/plain": [
       "0"
      ]
     },
     "execution_count": 20,
     "metadata": {},
     "output_type": "execute_result"
    }
   ],
   "source": [
    "#subs paling sedikit\n",
    "df['numberOfSubscribers'].min()"
   ]
  },
  {
   "cell_type": "code",
   "execution_count": 74,
   "id": "31571247-62d2-4f22-9418-a3bc65b25511",
   "metadata": {},
   "outputs": [
    {
     "data": {
      "text/plain": [
       "MUSIC MONDAY - ORGAN FAIRCHILD MUSIC VIDEO                                                        1\n",
       "Madison composer’s music played during inauguration                                               1\n",
       "How to Promote Your Music Safely in 2021                                                          1\n",
       "Music Pop 2020️️ | Best Music Most Played 2020️ 💗 Ed Sheeran, Maroon 5, Adele, justin bieber 🆗    1\n",
       "Name: title, dtype: int64"
      ]
     },
     "execution_count": 74,
     "metadata": {},
     "output_type": "execute_result"
    }
   ],
   "source": [
    "condition = df['dislikes']==0\n",
    "df['title'][condition].value_counts()"
   ]
  },
  {
   "cell_type": "code",
   "execution_count": 36,
   "id": "cd0498e8-8537-414b-9b7b-bde5d9621877",
   "metadata": {},
   "outputs": [
    {
     "data": {
      "text/plain": [
       "'iamOTHER'"
      ]
     },
     "execution_count": 36,
     "metadata": {},
     "output_type": "execute_result"
    }
   ],
   "source": [
    "df['viewCount']\n",
    "df['channelName'].max()"
   ]
  },
  {
   "cell_type": "code",
   "execution_count": 37,
   "id": "1c280db2-59d2-4a8b-a061-ac6f9a19717b",
   "metadata": {},
   "outputs": [
    {
     "data": {
      "text/plain": [
       "'16 WAPT News Jackson'"
      ]
     },
     "execution_count": 37,
     "metadata": {},
     "output_type": "execute_result"
    }
   ],
   "source": [
    "df['viewCount']\n",
    "df['channelName'].min()"
   ]
  },
  {
   "cell_type": "code",
   "execution_count": 75,
   "id": "201b97a8-30f6-4f50-9bbb-466ec2f97d0e",
   "metadata": {},
   "outputs": [
    {
     "data": {
      "text/plain": [
       "MUSIC MONDAY - ORGAN FAIRCHILD MUSIC VIDEO    1\n",
       "Name: title, dtype: int64"
      ]
     },
     "execution_count": 75,
     "metadata": {},
     "output_type": "execute_result"
    }
   ],
   "source": [
    "condition = df['likes']==0\n",
    "df['title'][condition].value_counts()"
   ]
  },
  {
   "cell_type": "code",
   "execution_count": 53,
   "id": "1c7b8192-a9e1-4471-9c1f-3c2c20993ae5",
   "metadata": {},
   "outputs": [
    {
     "data": {
      "text/plain": [
       "Pharrell Williams - Happy (Official Music Video)                                                        2\n",
       "Christina Perri - A Thousand Years [Official Music Video]                                               1\n",
       "Justin Bieber - Love Yourself (Official Music Video)                                                    1\n",
       "Lil Dicky - Earth (Official Music Video)                                                                1\n",
       "Ed Sheeran - Shape of You (Official Music Video)                                                        1\n",
       "Ed Sheeran - Perfect (Official Music Video)                                                             1\n",
       "Marshmello ft. Bastille - Happier (Official Music Video)                                                1\n",
       "Maroon 5 - Sugar (Official Music Video)                                                                 1\n",
       "Ariana Grande &amp; Justin Bieber - Stuck with U                                                        1\n",
       "Michael Jackson - Thriller (Official Video)                                                             1\n",
       "Ylvis - The Fox (What Does The Fox Say?) [Official music video HD]                                      1\n",
       "Khalid - Better (Official Video)                                                                        1\n",
       "Bebe Rexha - Meant to Be (feat. Florida Georgia Line) [Official Music Video]                            1\n",
       "Bon Jovi - Livin' On A Prayer (Official Music Video)                                                    1\n",
       "Iggy Azalea - Fancy ft. Charli XCX (Official Music Video)                                               1\n",
       "Lil Nas X - Panini (Official Video)                                                                     1\n",
       "Taylor Swift - Bad Blood ft. Kendrick Lamar                                                             1\n",
       "Maroon 5 - Girls Like You ft. Cardi B (Official Music Video)                                            1\n",
       "Red Hot Chili Peppers - Californication [Official Music Video]                                          1\n",
       "Marshmello - Alone (Official Music Video)                                                               1\n",
       "Taylor Swift - Shake It Off                                                                             1\n",
       "Childish Gambino - This Is America (Official Video)                                                     1\n",
       "Roddy Ricch - The Box [Official Music Video]                                                            1\n",
       "Cardi B - Bodak Yellow [OFFICIAL MUSIC VIDEO]                                                           1\n",
       "Larray - Cancelled (Official Music Video)                                                               1\n",
       "Justin Bieber - Baby (Official Music Video) ft. Ludacris                                                1\n",
       "Lady Gaga - Bad Romance (Official Music Video)                                                          1\n",
       "Cardi B - WAP feat. Megan Thee Stallion [Official Music Video]                                          1\n",
       "Ariana Grande - 34+35 (official video)                                                                  1\n",
       "Katy Perry - Firework (Official Music Video)                                                            1\n",
       "OneRepublic - Counting Stars (Official Music Video)                                                     1\n",
       "Ariana Grande - positions (official video)                                                              1\n",
       "Disturbed  - The Sound Of Silence [Official Music Video]                                                1\n",
       "Relaxing Sleep Music • Deep Sleeping Music, Relaxing Music, Stress Relief, Meditation Music (Flying)    1\n",
       "Post Malone, Swae Lee - Sunflower (Spider-Man: Into the Spider-Verse)                                   1\n",
       "Billie Eilish - Therefore I Am (Official Music Video)                                                   1\n",
       "BTS (방탄소년단) 'ON' Kinetic Manifesto Film : Come Prima                                                    1\n",
       "Scorpions - Wind Of Change (Official Music Video)                                                       1\n",
       "Dua Lipa - New Rules (Official Music Video)                                                             1\n",
       "Ariana Grande - thank u, next (Official Video)                                                          1\n",
       "Major Lazer &amp; DJ Snake - Lean On (feat. MØ) (Official Music Video)                                  1\n",
       "The Weeknd - Blinding Lights (Official Music Video)                                                     1\n",
       "DJ Khaled ft. Drake - POPSTAR (Official Music Video - Starring Justin Bieber)                           1\n",
       "Name: title, dtype: int64"
      ]
     },
     "execution_count": 53,
     "metadata": {},
     "output_type": "execute_result"
    }
   ],
   "source": [
    "condition = df['dislikes']>100000\n",
    "df['title'][condition].value_counts()"
   ]
  },
  {
   "cell_type": "code",
   "execution_count": 56,
   "id": "c2732d8a-dd4c-41a7-992f-da5f258b4f69",
   "metadata": {},
   "outputs": [
    {
     "data": {
      "text/plain": [
       "Pharrell Williams - Happy (Official Music Video)                                              2\n",
       "Bebe Rexha - Meant to Be (feat. Florida Georgia Line) [Official Music Video]                  1\n",
       "8 Hours of Beautiful Piano Music: Sleep Music, Fall Asleep, Relaxing Music, Sleeping Music    1\n",
       "Disturbed  - The Sound Of Silence [Official Music Video]                                      1\n",
       "Lil Nas X - HOLIDAY (Official Video)                                                          1\n",
       "                                                                                             ..\n",
       "Chip - 10 Commandments [Music Video] | GRM Daily                                              1\n",
       "Fredo Bang - Top ft. Lil Durk (Official Music Video)                                          1\n",
       "MIKA - Popular Song ft. Ariana Grande                                                         1\n",
       "Blake Shelton - Nobody But You (Duet with Gwen Stefani) (Official Music Video)                1\n",
       "(ON MUSIC)  Ronald Borjas y Nelson Arrieta Medley en Vivo                                     1\n",
       "Name: title, Length: 97, dtype: int64"
      ]
     },
     "execution_count": 56,
     "metadata": {},
     "output_type": "execute_result"
    }
   ],
   "source": [
    "condition = df['viewCount']>1000000\n",
    "df['title'][condition].value_counts()"
   ]
  },
  {
   "cell_type": "code",
   "execution_count": 57,
   "id": "478c8763-d796-4c7a-ae3e-0bcef0fda156",
   "metadata": {},
   "outputs": [
    {
     "data": {
      "text/plain": [
       "Sweet Waves                1\n",
       "Music &amp; Memory         1\n",
       "Hour Loop Everything       1\n",
       "Super D TV                 1\n",
       "Habana. Music              1\n",
       "Latest Christian Gospel    1\n",
       "Piano Relaxing             1\n",
       "Gospel Music               1\n",
       "7even EDM                  1\n",
       "Name: channelName, dtype: int64"
      ]
     },
     "execution_count": 57,
     "metadata": {},
     "output_type": "execute_result"
    }
   ],
   "source": [
    "condition = df['numberOfSubscribers']==0\n",
    "df['channelName'][condition].value_counts()"
   ]
  },
  {
   "cell_type": "code",
   "execution_count": 63,
   "id": "763e005d-b9e4-423d-89fa-bf8831c564fc",
   "metadata": {},
   "outputs": [
    {
     "data": {
      "text/plain": [
       "Ed Sheeran - Shape of You (Official Music Video)    1\n",
       "Name: title, dtype: int64"
      ]
     },
     "execution_count": 63,
     "metadata": {},
     "output_type": "execute_result"
    }
   ],
   "source": [
    "condition = df['viewCount']==5158342444\n",
    "df['title'][condition].value_counts()"
   ]
  },
  {
   "cell_type": "code",
   "execution_count": 64,
   "id": "f72ba9bd-b2f7-44a9-abcb-7e4c2aad0423",
   "metadata": {},
   "outputs": [
    {
     "data": {
      "text/plain": [
       "MUSIC MONDAY - ORGAN FAIRCHILD MUSIC VIDEO    1\n",
       "Name: title, dtype: int64"
      ]
     },
     "execution_count": 64,
     "metadata": {},
     "output_type": "execute_result"
    }
   ],
   "source": [
    "condition = df['viewCount']==11\n",
    "df['title'][condition].value_counts()"
   ]
  },
  {
   "cell_type": "code",
   "execution_count": 65,
   "id": "d518d1f0-72fc-4cb5-ab7b-dd5b50a4b589",
   "metadata": {},
   "outputs": [
    {
     "data": {
      "text/plain": [
       "Zee Music Company    1\n",
       "Name: channelName, dtype: int64"
      ]
     },
     "execution_count": 65,
     "metadata": {},
     "output_type": "execute_result"
    }
   ],
   "source": [
    "condition = df['numberOfSubscribers']==67700000\n",
    "df['channelName'][condition].value_counts()"
   ]
  },
  {
   "cell_type": "code",
   "execution_count": 66,
   "id": "f3ec5138-378b-45fc-961d-b208b9484be1",
   "metadata": {},
   "outputs": [
    {
     "data": {
      "text/plain": [
       "Sweet Waves                1\n",
       "Music &amp; Memory         1\n",
       "Hour Loop Everything       1\n",
       "Super D TV                 1\n",
       "Habana. Music              1\n",
       "Latest Christian Gospel    1\n",
       "Piano Relaxing             1\n",
       "Gospel Music               1\n",
       "7even EDM                  1\n",
       "Name: channelName, dtype: int64"
      ]
     },
     "execution_count": 66,
     "metadata": {},
     "output_type": "execute_result"
    }
   ],
   "source": [
    "condition = df['numberOfSubscribers']==0\n",
    "df['channelName'][condition].value_counts()"
   ]
  },
  {
   "cell_type": "code",
   "execution_count": 67,
   "id": "36106a46-35ab-407b-be61-708e7b6ef956",
   "metadata": {},
   "outputs": [
    {
     "data": {
      "text/plain": [
       "1.7252747252747254"
      ]
     },
     "execution_count": 67,
     "metadata": {},
     "output_type": "execute_result"
    }
   ],
   "source": [
    "df['duration'].value_counts().mean()"
   ]
  },
  {
   "cell_type": "code",
   "execution_count": 68,
   "id": "8fb1577e-c8fe-4662-81cc-c7bbb7c61d37",
   "metadata": {},
   "outputs": [
    {
     "data": {
      "text/plain": [
       "1.4537037037037037"
      ]
     },
     "execution_count": 68,
     "metadata": {},
     "output_type": "execute_result"
    }
   ],
   "source": [
    "df['numberOfSubscribers'].value_counts().mean()"
   ]
  },
  {
   "cell_type": "code",
   "execution_count": 69,
   "id": "4c87fc9c-6832-43c1-9589-de38b8975a5a",
   "metadata": {},
   "outputs": [
    {
     "data": {
      "text/plain": [
       "0"
      ]
     },
     "execution_count": 69,
     "metadata": {},
     "output_type": "execute_result"
    }
   ],
   "source": [
    "df['likes'].min()"
   ]
  },
  {
   "cell_type": "code",
   "execution_count": 70,
   "id": "f02487ad-906e-48fe-81cd-8d9d9bd7d8ab",
   "metadata": {},
   "outputs": [
    {
     "data": {
      "text/plain": [
       "MUSIC MONDAY - ORGAN FAIRCHILD MUSIC VIDEO    1\n",
       "Name: title, dtype: int64"
      ]
     },
     "execution_count": 70,
     "metadata": {},
     "output_type": "execute_result"
    }
   ],
   "source": [
    "condition = df['likes']==0\n",
    "df['title'][condition].value_counts()"
   ]
  },
  {
   "cell_type": "code",
   "execution_count": 71,
   "id": "efc42536-895d-4ffc-a7b4-363216683002",
   "metadata": {},
   "outputs": [
    {
     "data": {
      "text/plain": [
       "25000000"
      ]
     },
     "execution_count": 71,
     "metadata": {},
     "output_type": "execute_result"
    }
   ],
   "source": [
    "df['likes'].max()"
   ]
  },
  {
   "cell_type": "code",
   "execution_count": 72,
   "id": "21962703-aad0-42f1-bfec-8e597b6c8d21",
   "metadata": {},
   "outputs": [
    {
     "data": {
      "text/plain": [
       "Ed Sheeran - Shape of You (Official Music Video)    1\n",
       "Name: title, dtype: int64"
      ]
     },
     "execution_count": 72,
     "metadata": {},
     "output_type": "execute_result"
    }
   ],
   "source": [
    "condition = df['likes']==25000000\n",
    "df['title'][condition].value_counts()"
   ]
  },
  {
   "cell_type": "code",
   "execution_count": 73,
   "id": "80e76b93-662b-4737-bf89-9dccbb90ec10",
   "metadata": {},
   "outputs": [
    {
     "data": {
      "text/plain": [
       "2017-01-30T00:00:00+00:00    1\n",
       "Name: date, dtype: int64"
      ]
     },
     "execution_count": 73,
     "metadata": {},
     "output_type": "execute_result"
    }
   ],
   "source": [
    "condition = df['likes']==25000000\n",
    "df['date'][condition].value_counts()"
   ]
  },
  {
   "cell_type": "code",
   "execution_count": 77,
   "id": "d120499a-5d42-48d7-8fb0-c4bf9db96a5b",
   "metadata": {},
   "outputs": [
    {
     "data": {
      "text/plain": [
       "Music Pop 2020️️ | Best Music Most Played 2020️ 💗 Ed Sheeran, Maroon 5, Adele, justin bieber 🆗                                                                                                                                                                                                1\n",
       "Ronnie Atkins (Pretty Maids) - \"One Shot\" - Official Music Video                                                                                                                                                                                                                              1\n",
       "<span dir=\"auto\" class=\"style-scope yt-formatted-string\">Justin Bieber BREAKS DOWN “Anyone’ Music Video, Inspired More Than Just ‘Rocky’ &amp; ‘Creed’ | </span><a class=\"yt-simple-endpoint style-scope yt-formatted-string\" spellcheck=\"false\" href=\"/hashtag/tmtl\" dir=\"auto\">#TMTL</a>    1\n",
       "Top Songs 2021 ⚡️ Top 40 Pop Songs Playlist 2021 ⚡️ Best English Music Collection 2021                                                                                                                                                                                                        1\n",
       "4K Video - PALAWAN PHILIPINES - Relaxing music along with beautiful nature videos ( 4k Ultra HD )                                                                                                                                                                                             1\n",
       "HAPPY ASMARA - ATI SING LIYO (Official Live Music Video) | Mung Siji Penjalukku                                                                                                                                                                                                               1\n",
       "Lil Skies - Dead Broke [Official Music Video]                                                                                                                                                                                                                                                 1\n",
       "Throw Stress Away with Relaxing Piano Music &amp; Beautiful Nature - Sleep Music &amp; Stress Relief Music                                                                                                                                                                                    1\n",
       "How to Promote Your Music Safely in 2021                                                                                                                                                                                                                                                      1\n",
       "Top 30 Guitar Covers Of Popular Songs 2021 - Best Instrumental Relax Music for Work, Study                                                                                                                                                                                                    1\n",
       "African Worship Songs 🎶Ghana Gospel Music ➕South African Gospel Music ➕ Kenya Gospel Worship Songs                                                                                                                                                                                            1\n",
       "YUNGBLUD feat. Machine Gun Kelly - acting like that (Official Music Video)                                                                                                                                                                                                                    1\n",
       "Best Praise and Worship Songs 2021 - Top 100 Best Christian Gospel Songs Of All Time - Musics Praise                                                                                                                                                                                          1\n",
       "Selena Gomez Hides SECRET Message In Dress For ‘De Una Vez’ Music Video! | The Morning Tea Live!                                                                                                                                                                                              1\n",
       "Billie Eilish, ROSALÍA - Lo Vas A Olvidar (Official Music Video)                                                                                                                                                                                                                              1\n",
       "Name: title, dtype: int64"
      ]
     },
     "execution_count": 77,
     "metadata": {},
     "output_type": "execute_result"
    }
   ],
   "source": [
    "condition = df['date']=='Invalid date'\n",
    "df['title'][condition].value_counts()"
   ]
  },
  {
   "cell_type": "code",
   "execution_count": null,
   "id": "3b175001-1ec0-46a8-96e7-611e31c93c55",
   "metadata": {},
   "outputs": [],
   "source": []
  }
 ],
 "metadata": {
  "kernelspec": {
   "display_name": "Python 3",
   "language": "python",
   "name": "python3"
  },
  "language_info": {
   "codemirror_mode": {
    "name": "ipython",
    "version": 3
   },
   "file_extension": ".py",
   "mimetype": "text/x-python",
   "name": "python",
   "nbconvert_exporter": "python",
   "pygments_lexer": "ipython3",
   "version": "3.8.8"
  }
 },
 "nbformat": 4,
 "nbformat_minor": 5
}
